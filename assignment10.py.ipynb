{
 "cells": [
  {
   "cell_type": "code",
   "execution_count": 1,
   "metadata": {},
   "outputs": [
    {
     "name": "stdout",
     "output_type": "stream",
     "text": [
      "12\n"
     ]
    }
   ],
   "source": [
    "f=open(\"test.txt\",\"w\")\n",
    "s=f.write(\"good morning\")\n",
    "print(s)\n",
    "f.close()"
   ]
  },
  {
   "cell_type": "code",
   "execution_count": 2,
   "metadata": {},
   "outputs": [
    {
     "name": "stdout",
     "output_type": "stream",
     "text": [
      "python exercise\n"
     ]
    }
   ],
   "source": [
    "def file_read(fname):\n",
    "            from itertools import islice\n",
    "            with open(fname,\"w\") as myfile:\n",
    "                                             myfile.write(\"python exercise\")\n",
    "            txt=open(fname)\n",
    "            print(txt.read())\n",
    "file_read('test.txt')\n"
   ]
  },
  {
   "cell_type": "code",
   "execution_count": 2,
   "metadata": {},
   "outputs": [
    {
     "name": "stdout",
     "output_type": "stream",
     "text": [
      "python exercise\n"
     ]
    }
   ],
   "source": [
    "\n",
    "def file_read(fname):\n",
    "    with open(fname,\"r\") as myfile:\n",
    "        data=myfile.readlines()\n",
    "        print(data)\n",
    "file_read(\"test.txt\")"
   ]
  },
  {
   "cell_type": "code",
   "execution_count": 5,
   "metadata": {},
   "outputs": [
    {
     "name": "stdout",
     "output_type": "stream",
     "text": [
      "file size is 11\n"
     ]
    }
   ],
   "source": [
    "f=open(\"test.txt\",\"w\")\n",
    "f.write(\"hello gitam\")\n",
    "def file(fname):\n",
    "                  import os\n",
    "                  statinfo=os.stat(fname)\n",
    "                  return statinfo.st_size\n",
    "print(\"file size is\",file(\"test.txt\"))"
   ]
  },
  {
   "cell_type": "code",
   "execution_count": 6,
   "metadata": {},
   "outputs": [
    {
     "name": "stdout",
     "output_type": "stream",
     "text": [
      "['hello gitam']\n"
     ]
    }
   ],
   "source": [
    "def file_read(fname):\n",
    "       with open(fname) as f:\n",
    "            content_list=f.readlines()\n",
    "            print(content_list)\n",
    "file_read('test.txt')"
   ]
  },
  {
   "cell_type": "code",
   "execution_count": 7,
   "metadata": {},
   "outputs": [
    {
     "name": "stdout",
     "output_type": "stream",
     "text": [
      "hello gitam\n",
      "\n",
      "\n"
     ]
    }
   ],
   "source": [
    "a_file=open(\"test.txt\")\n",
    "number_of_lines=3\n",
    "for i in range(number_of_lines):\n",
    "             line=a_file.readline()\n",
    "             print(line)"
   ]
  },
  {
   "cell_type": "code",
   "execution_count": 9,
   "metadata": {},
   "outputs": [],
   "source": [
    "with open(\"test.txt\") as f:\n",
    "    with open(\"out.txt\",\"w\") as f1:\n",
    "        for line in f:\n",
    "            f1.write(line)"
   ]
  },
  {
   "cell_type": "code",
   "execution_count": null,
   "metadata": {},
   "outputs": [],
   "source": []
  }
 ],
 "metadata": {
  "kernelspec": {
   "display_name": "Python 3",
   "language": "python",
   "name": "python3"
  },
  "language_info": {
   "codemirror_mode": {
    "name": "ipython",
    "version": 3
   },
   "file_extension": ".py",
   "mimetype": "text/x-python",
   "name": "python",
   "nbconvert_exporter": "python",
   "pygments_lexer": "ipython3",
   "version": "3.8.3"
  }
 },
 "nbformat": 4,
 "nbformat_minor": 4
}
